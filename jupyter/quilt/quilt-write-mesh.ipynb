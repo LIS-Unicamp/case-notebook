{
 "cells": [
  {
   "cell_type": "code",
   "execution_count": 1,
   "metadata": {},
   "outputs": [
    {
     "name": "stdout",
     "output_type": "stream",
     "text": [
      "Launching a web browser...\n",
      "If that didn't work, please visit the following URL: https://pkg.quiltdata.com/login\n",
      "Failed to launch the browser: [Errno 2] No such file or directory: 'xdg-open': 'xdg-open'\n",
      "\n"
     ]
    },
    {
     "name": "stdin",
     "output_type": "stream",
     "text": [
      "Enter the code from the webpage:  eyJpZCI6ICIxM2Y3OTZhNy1mZDVmLTRmOGEtYTE3OC02NmFiNTc3ZWM3ODYiLCAiY29kZSI6ICIzMzJmY2U0OS01M2MwLTQ1OTgtOGYwNi1kZTU1ZjMzZjY2NzcifQ==\n"
     ]
    },
    {
     "name": "stderr",
     "output_type": "stream",
     "text": [
      "  0%|          | 0.00/185 [00:00<?, ?B/s]"
     ]
    },
    {
     "name": "stdout",
     "output_type": "stream",
     "text": [
      "Fetching upload URLs from the registry...\n",
      "Uploading 1 fragments (185 bytes)...\n"
     ]
    },
    {
     "name": "stderr",
     "output_type": "stream",
     "text": [
      "100%|██████████| 185/185 [00:00<00:00, 807B/s]\n"
     ]
    },
    {
     "name": "stdout",
     "output_type": "stream",
     "text": [
      "Uploading package metadata...\n",
      "Push complete. santanche/ehealth/mesh/year2018 is live:\n",
      "https://quiltdata.com/package/santanche/ehealth\n"
     ]
    }
   ],
   "source": [
    "import quilt\n",
    "\n",
    "# serializing the dataframe in the path\n",
    "quilt.build(\"santanche/ehealth/mesh/year2018\", \"../data/mesh/2018/build.yml\")\n",
    "\n",
    "# pushing to Quilt\n",
    "quilt.login()\n",
    "quilt.push(\"santanche/ehealth/mesh/year2018\", is_public=True)"
   ]
  }
 ],
 "metadata": {
  "kernelspec": {
   "display_name": "Python 3",
   "language": "python",
   "name": "python3"
  },
  "language_info": {
   "codemirror_mode": {
    "name": "ipython",
    "version": 3
   },
   "file_extension": ".py",
   "mimetype": "text/x-python",
   "name": "python",
   "nbconvert_exporter": "python",
   "pygments_lexer": "ipython3",
   "version": "3.6.6"
  }
 },
 "nbformat": 4,
 "nbformat_minor": 2
}
