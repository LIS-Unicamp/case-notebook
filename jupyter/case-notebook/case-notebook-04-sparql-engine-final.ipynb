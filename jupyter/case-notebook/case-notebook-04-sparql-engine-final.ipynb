{
 "cells": [
  {
   "cell_type": "code",
   "execution_count": 1,
   "metadata": {},
   "outputs": [
    {
     "data": {
      "application/vnd.jupyter.widget-view+json": {
       "model_id": "ad9f18a0e57341ac8821988e90868d51",
       "version_major": 2,
       "version_minor": 0
      },
      "text/plain": [
       "Accordion()"
      ]
     },
     "metadata": {},
     "output_type": "display_data"
    }
   ],
   "source": [
    "from caseNotebookLib import HealthDM\n",
    "\n",
    "HealthDM.createProfile()"
   ]
  },
  {
   "cell_type": "markdown",
   "metadata": {
    "slideshow": {
     "slide_type": "slide"
    }
   },
   "source": [
    "=== Syncope of a Forklift Driver ===\n",
    "~ 100 points\n",
    "Young man had a syncope while driving a forklift.\n",
    "\n",
    "=== Start ===\n",
    "Nurse: Doctor, please come to the Emergency room, we have a difficult case there.\n",
    "\n",
    "Nurse: The patient is a young {man}(male), {23 years old}(aging=23). He had a {syncope} while driving a forklift. His colleagues called an ambulance and he has just arrived.\n",
    "\n",
    "-> Decision\n",
    "\n",
    "=== Decision ===\n",
    "What do you want to do?\n",
    "++ -> Make a decision\n",
    "++ -> More information\n",
    "++ -> Call the supervisor\n",
    "\n",
    "=== Make a decision ===\n",
    "What is the next step?\n",
    "++ -> Get vital data\n",
    "++ Offer oxygen\n",
    "++ -> Perform an EKG\n",
    "++ Get a brain scan\n",
    "++ -> Return\n",
    "\n",
    "=== More information ===\n",
    "His colleagues found him sited inside the forklift, {without signs of trauma}(no trauma). After they took him out and laid him down, the patient woke up but still complained of {dizziness} and could not stand up.\n",
    "There was {no blood} at the scene, neither other signs of trauma. The patient had {no previous syncope episodes}(no syncope=history), he {drinks alcohol occasionally}(alcohol drinking=occasionally), and {smokes 10 cigarettes a day}(smoking=10/day).\n",
    "++ -> Return\n",
    "\n",
    "=== Call the supervisor ===\n",
    "~ -10 points\n",
    "(write the explanation here) Syncope is one of the most common complains in the emergency department. \n",
    "\n",
    "=== Get vital data ===\n",
    "You enter the emergency room and the patient is laid on the bed, {conscious}(consciousness=yes), {oriented}(orientation), but {distressed}(suffering). {Respiratory rate= 32 mov/min}; {Heart rate= 150bpm}; {Blood pressure= 82x66mmHg}; {Oxygen saturation= 82%}.\n",
    "\n",
    "=== Perform an EKG ===\n",
    "~ -10 points\n",
    "An EKG was obtained:\n",
    "![EKG1](images/ekg.png)\n",
    "\n",
    "What do you want to do?\n",
    "++ Make a decision -> Make a decision after EKG\n",
    "++ Get more information -> Get more information after EKG\n",
    "++ Call the supervisor -> Call the supervisor after EKG\n",
    "\n",
    "=== Make a decision after EKG ===\n",
    "What is the next step?\n",
    "++ Electric cardioversion\n",
    "++ Amiodarone\n",
    "++ Adenosine\n",
    "++ Verapamil\n",
    "\n",
    "=== Get more information after EKG ===\n",
    "Description of the EKG.\n",
    "\n",
    "=== Call the supervisor after EKG ===\n",
    "Explanation about arrythmia, the explanation about the EKG and the treatment plan."
   ]
  },
  {
   "cell_type": "code",
   "execution_count": 3,
   "metadata": {},
   "outputs": [
    {
     "data": {
      "text/html": [
       "<iframe width=\"100%\" height=\"800px\" src=\"html/index.html\"><iframe>"
      ],
      "text/plain": [
       "<IPython.core.display.HTML object>"
      ]
     },
     "metadata": {},
     "output_type": "display_data"
    }
   ],
   "source": [
    "%%HTML\n",
    "<iframe width=\"100%\" height=\"800px\" src=\"html/index.html\"><iframe>"
   ]
  },
  {
   "cell_type": "code",
   "execution_count": null,
   "metadata": {},
   "outputs": [],
   "source": []
  }
 ],
 "metadata": {
  "kernelspec": {
   "display_name": "Python 3",
   "language": "python",
   "name": "python3"
  },
  "language_info": {
   "codemirror_mode": {
    "name": "ipython",
    "version": 3
   },
   "file_extension": ".py",
   "mimetype": "text/x-python",
   "name": "python",
   "nbconvert_exporter": "python",
   "pygments_lexer": "ipython3",
   "version": "3.6.5"
  }
 },
 "nbformat": 4,
 "nbformat_minor": 2
}
