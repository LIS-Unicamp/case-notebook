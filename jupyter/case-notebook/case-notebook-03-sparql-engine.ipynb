{
 "cells": [
  {
   "cell_type": "code",
   "execution_count": 1,
   "metadata": {},
   "outputs": [
    {
     "data": {
      "application/vnd.jupyter.widget-view+json": {
       "model_id": "75c25190c73d4ff9a63fada4509a9fe6",
       "version_major": 2,
       "version_minor": 0
      },
      "text/plain": [
       "Accordion()"
      ]
     },
     "metadata": {},
     "output_type": "display_data"
    }
   ],
   "source": [
    "import ipywidgets as widgets\n",
    "from SPARQLWrapper import SPARQLWrapper, JSON\n",
    "\n",
    "class HealthDM(object):\n",
    "    profile = None\n",
    "    \n",
    "    @classmethod\n",
    "    def setProfile(cls, profile):\n",
    "        cls.profile = profile\n",
    "        \n",
    "    @classmethod\n",
    "    def clearConcepts(cls):\n",
    "        cls.profile.children = tuple([])\n",
    "\n",
    "    @classmethod\n",
    "    def addConcept(cls, concept, code):\n",
    "        wt = widgets.Text()\n",
    "        wt.value = code\n",
    "        cls.profile.children = tuple(list(cls.profile.children) + [wt])\n",
    "        cls.profile.set_title(len(cls.profile.children)-1, concept)\n",
    "\n",
    "    @classmethod\n",
    "    def findMeshCode(cls, heading):\n",
    "        sparql = SPARQLWrapper(\"http://id.nlm.nih.gov/mesh/sparql\")\n",
    "        sparql.setQuery(\"\"\"\n",
    "PREFIX rdf: <http://www.w3.org/1999/02/22-rdf-syntax-ns#>\n",
    "PREFIX rdfs: <http://www.w3.org/2000/01/rdf-schema#>\n",
    "PREFIX xsd: <http://www.w3.org/2001/XMLSchema#>\n",
    "PREFIX owl: <http://www.w3.org/2002/07/owl#>\n",
    "PREFIX meshv: <http://id.nlm.nih.gov/mesh/vocab#>\n",
    "PREFIX mesh: <http://id.nlm.nih.gov/mesh/>\n",
    "PREFIX mesh2015: <http://id.nlm.nih.gov/mesh/2015/>\n",
    "PREFIX mesh2016: <http://id.nlm.nih.gov/mesh/2016/>\n",
    "PREFIX mesh2017: <http://id.nlm.nih.gov/mesh/2017/>\n",
    "PREFIX mesh2018: <http://id.nlm.nih.gov/mesh/2018/>\n",
    "\n",
    "SELECT ?d\n",
    "FROM <http://id.nlm.nih.gov/mesh>\n",
    "WHERE {\n",
    "    ?d a meshv:Term .\n",
    "    {?d meshv:prefLabel ?l\n",
    "     FILTER (lcase(str(?l)) = lcase('\"\"\" + heading + \"\"\"'))}\n",
    "    UNION\n",
    "    {?d meshv:altLabel ?l\n",
    "     FILTER (lcase(str(?l)) = lcase('\"\"\" + heading + \"\"\"'))}\n",
    "} \n",
    "ORDER BY ?d\n",
    "\"\"\")\n",
    "        sparql.setReturnFormat(JSON)\n",
    "        results = sparql.query().convert()\n",
    "    \n",
    "        code = \"none\"\n",
    "        if len(results[\"results\"][\"bindings\"]) > 0:\n",
    "            code = results[\"results\"][\"bindings\"][0][\"d\"][\"value\"]\n",
    "            \n",
    "        cls.addConcept(heading, code)\n",
    "    \n",
    "        return \"#mesh_heading#\" + heading + \"#tree_number#\" + code\n",
    "\n",
    "\n",
    "profile = widgets.Accordion(children=[])\n",
    "\n",
    "HealthDM.setProfile(profile)\n",
    "\n",
    "profile"
   ]
  },
  {
   "cell_type": "markdown",
   "metadata": {
    "slideshow": {
     "slide_type": "slide"
    }
   },
   "source": [
    "# Case 1\n",
    "\n",
    "=== VP ===\n",
    "\n",
    "= more_information\n",
    "\n",
    "\n",
    "=== Characters ===\n",
    "\n",
    "= Nurse\n",
    "![Nurse](nurse-1529355567.png)\n",
    "\n",
    "= Patient\n",
    "* 23 years old\n",
    "\n",
    "=== Start ===\n",
    "\n",
    ":Nurse: Doctor, please come to the Emergency room, we have a difficult case there.\n",
    "\n",
    "= First\n",
    "\n",
    "= Second\n",
    "\n",
    "=== More Information ===\n",
    "\n",
    "His colleagues found him sited inside the forklift, {without signs of trauma}(no trauma). After they took him out and laid him down, the patient woke up but still complained of {dizziness} and could not stand up.\n",
    "There was {no blood} at the scene, neither other signs of trauma. The patient had {no previous syncope episodes}, he {drinks alcohol occasionally}, and {smokes 10 cigarettes a day}.\n",
    "\n",
    "\n",
    "{Myocardial Infarction}\n",
    "\n",
    "+ escolha\n",
    "\n",
    "* item\n",
    "  * desvia para ->titulo\n",
    "  * desvia para ->lugar_nenhum\n",
    "  * desvia para ->Start.First\n",
    "  * desvia para ->First\n",
    "\n",
    "==== titulo ====\n",
    "\n",
    "{Aortic Dissection}"
   ]
  },
  {
   "cell_type": "markdown",
   "metadata": {},
   "source": [
    "# Case 29\n",
    "\n",
    "Patient a man 55 years old; rather fat; subject to frequent attacks of winter {cough}, with {asthmatic} tendency. For seven years the heart had been noticeably weak and irregular. Pulse 80; first sound valvular. Apex beat an inch and a half directly below left nipple; no murmurs. No previous rheumatism. Several years ago there was sudden and complete {loss of memory}, the same questions being repeated as soon as answered. The expression was at the time rather vacant; the pupils were equal and responded to light; there was no motor paralysis. The {amnesia} lasted all day, disappearing the following morning. The pulse remained 50 for two days. The patient had been previously very {anemic}, and had had much fatigue and anxiety, with digestive disturbance. The urine always remained normal. In the following years there were occasional attacks of transient numbness in the left arm and leg, and sometimes faint turns with pallor and irregular, feeble pulse. Headache was a frequent symptom; dyspnea on exertion, impaired appetite, and insomnia were constant. There was no apparent loss of flesh. In 1897 life was endangered for two weeks by edema of both lungs, supervening on an attack of {bronchitis}. In the subsequent years the condition improved somewhat, so that the patient could walk half a mile or more and was able to attend to considerable business. In autumn of 1904, be had several attacks of bronchitis, and, finally, an attack of complete {hemiplegia} resulted fatally in twenty-four hours without recovery of consciousness. Respiration was of the Cheyne-Stokes type, and later stertorous."
   ]
  }
 ],
 "metadata": {
  "kernelspec": {
   "display_name": "Python 3",
   "language": "python",
   "name": "python3"
  },
  "language_info": {
   "codemirror_mode": {
    "name": "ipython",
    "version": 3
   },
   "file_extension": ".py",
   "mimetype": "text/x-python",
   "name": "python",
   "nbconvert_exporter": "python",
   "pygments_lexer": "ipython3",
   "version": "3.6.5"
  }
 },
 "nbformat": 4,
 "nbformat_minor": 2
}
