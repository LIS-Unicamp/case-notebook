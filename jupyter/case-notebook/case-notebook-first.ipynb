{
 "cells": [
  {
   "cell_type": "code",
   "execution_count": 1,
   "metadata": {},
   "outputs": [],
   "source": [
    "import quilt\n",
    "# quilt.install(\"santanche/ehealth/mesh/year2018\")\n",
    "from quilt.data.santanche.ehealth import mesh"
   ]
  },
  {
   "cell_type": "code",
   "execution_count": 2,
   "metadata": {},
   "outputs": [],
   "source": [
    "import pandas as pd\n",
    "\n",
    "def findMeshCode(heading):\n",
    "    df = mesh.year2018()\n",
    "    codeSet = df.loc[df[\"mesh_heading\"] == heading]\n",
    "\n",
    "    code = \"none\"\n",
    "    if codeSet.size > 0:\n",
    "        code = codeSet.iat[0,1]\n",
    "\n",
    "    return \"#mesh_heading#\" + heading + \"#tree_number#\" + code"
   ]
  },
  {
   "cell_type": "markdown",
   "metadata": {
    "slideshow": {
     "slide_type": "slide"
    }
   },
   "source": [
    "# Teste\n",
    "\n",
    "{Myocardial Infarction}\n",
    "\n",
    "+ escolha\n",
    "\n",
    "* item\n",
    "  * estranho\n",
    "\n",
    "=== titulo ===\n",
    "\n",
    "{Aortic Dissection}"
   ]
  },
  {
   "cell_type": "code",
   "execution_count": null,
   "metadata": {},
   "outputs": [],
   "source": [
    "print asdrubal"
   ]
  }
 ],
 "metadata": {
  "kernelspec": {
   "display_name": "Python 2",
   "language": "python",
   "name": "python2"
  },
  "language_info": {
   "codemirror_mode": {
    "name": "ipython",
    "version": 2
   },
   "file_extension": ".py",
   "mimetype": "text/x-python",
   "name": "python",
   "nbconvert_exporter": "python",
   "pygments_lexer": "ipython2",
   "version": "2.7.15"
  }
 },
 "nbformat": 4,
 "nbformat_minor": 2
}
