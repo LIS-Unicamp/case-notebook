{
 "cells": [
  {
   "cell_type": "code",
   "execution_count": 3,
   "metadata": {},
   "outputs": [
    {
     "name": "stdout",
     "output_type": "stream",
     "text": [
      "Downloading package metadata...\n",
      "santanche/ehealth/mesh/year2018 already installed.\n",
      "Overwrite? (y/n) y\n",
      "Fragments already downloaded\n"
     ]
    }
   ],
   "source": [
    "import quilt\n",
    "quilt.install(\"santanche/ehealth/mesh/year2018\")\n",
    "from quilt.data.santanche.ehealth import mesh"
   ]
  },
  {
   "cell_type": "code",
   "execution_count": 4,
   "metadata": {},
   "outputs": [],
   "source": [
    "import pandas as pd\n",
    "\n",
    "def findMeshCode(heading):\n",
    "    df = mesh.year2018()\n",
    "    codeSet = df.loc[df[\"mesh_heading\"] == heading]\n",
    "\n",
    "    code = \"none\"\n",
    "    if codeSet.size > 0:\n",
    "        code = codeSet.iat[0,1]\n",
    "\n",
    "    return \"#mesh_heading#\" + heading + \"#tree_number#\" + code"
   ]
  },
  {
   "cell_type": "markdown",
   "metadata": {
    "slideshow": {
     "slide_type": "slide"
    }
   },
   "source": [
    "# Teste\n",
    "\n",
    "{Myocardial Infarction}\n",
    "\n",
    "+ escolha\n",
    "\n",
    "* item\n",
    "  * estranho\n",
    "\n",
    "=== titulo ===\n",
    "\n",
    "{Aortic Dissection}"
   ]
  },
  {
   "cell_type": "code",
   "execution_count": null,
   "metadata": {},
   "outputs": [],
   "source": [
    "print asdrubal"
   ]
  }
 ],
 "metadata": {
  "kernelspec": {
   "display_name": "Python 3",
   "language": "python",
   "name": "python3"
  }
 },
 "nbformat": 4,
 "nbformat_minor": 2
}
