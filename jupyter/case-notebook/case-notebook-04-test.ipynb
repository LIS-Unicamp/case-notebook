{
 "cells": [
  {
   "cell_type": "code",
   "execution_count": 1,
   "metadata": {},
   "outputs": [
    {
     "data": {
      "application/vnd.jupyter.widget-view+json": {
       "model_id": "3bfba0236e474d22bee7a031c7951c4d",
       "version_major": 2,
       "version_minor": 0
      },
      "text/plain": [
       "Accordion()"
      ]
     },
     "metadata": {},
     "output_type": "display_data"
    }
   ],
   "source": [
    "from caseNotebookLib import HealthDM\n",
    "\n",
    "HealthDM.createProfile()"
   ]
  },
  {
   "cell_type": "markdown",
   "metadata": {
    "slideshow": {
     "slide_type": "slide"
    }
   },
   "source": [
    "=== Asdrubal had a Syncope ===\n",
    "Asdrubal was running and had a {syncope}.\n",
    "\n",
    "=== Start ===\n",
    "Asdrubal arrived in the emergency room dizzy. {No headache}.\n",
    "\n",
    "++ -> Request Exams\n",
    "++ -> Give an Aspirin\n",
    "\n",
    "=== Request Exams ===\n",
    "{Blood test= 100};\n",
    "\n",
    "=== Give an Aspirin ===\n",
    "Asdrubal now is dead!"
   ]
  },
  {
   "cell_type": "code",
   "execution_count": 5,
   "metadata": {},
   "outputs": [
    {
     "data": {
      "text/html": [
       "<iframe width=\"100%\" height=\"800px\" src=\"html/index.html\"><iframe>"
      ],
      "text/plain": [
       "<IPython.core.display.HTML object>"
      ]
     },
     "metadata": {},
     "output_type": "display_data"
    }
   ],
   "source": [
    "%%HTML\n",
    "<iframe width=\"100%\" height=\"800px\" src=\"html/index.html\"><iframe>"
   ]
  },
  {
   "cell_type": "code",
   "execution_count": null,
   "metadata": {},
   "outputs": [],
   "source": []
  }
 ],
 "metadata": {
  "kernelspec": {
   "display_name": "Python 3",
   "language": "python",
   "name": "python3"
  },
  "language_info": {
   "codemirror_mode": {
    "name": "ipython",
    "version": 3
   },
   "file_extension": ".py",
   "mimetype": "text/x-python",
   "name": "python",
   "nbconvert_exporter": "python",
   "pygments_lexer": "ipython3",
   "version": "3.6.5"
  }
 },
 "nbformat": 4,
 "nbformat_minor": 2
}
