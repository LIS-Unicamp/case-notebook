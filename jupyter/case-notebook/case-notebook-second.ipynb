{
 "cells": [
  {
   "cell_type": "code",
   "execution_count": 1,
   "metadata": {},
   "outputs": [],
   "source": [
    "from SPARQLWrapper import SPARQLWrapper, JSON\n",
    "\n",
    "def findMeshCode(heading):\n",
    "    sparql = SPARQLWrapper(\"http://id.nlm.nih.gov/mesh/sparql\")\n",
    "    sparql.setQuery(\"\"\"\n",
    "PREFIX rdf: <http://www.w3.org/1999/02/22-rdf-syntax-ns#>\n",
    "PREFIX rdfs: <http://www.w3.org/2000/01/rdf-schema#>\n",
    "PREFIX xsd: <http://www.w3.org/2001/XMLSchema#>\n",
    "PREFIX owl: <http://www.w3.org/2002/07/owl#>\n",
    "PREFIX meshv: <http://id.nlm.nih.gov/mesh/vocab#>\n",
    "PREFIX mesh: <http://id.nlm.nih.gov/mesh/>\n",
    "PREFIX mesh2015: <http://id.nlm.nih.gov/mesh/2015/>\n",
    "PREFIX mesh2016: <http://id.nlm.nih.gov/mesh/2016/>\n",
    "PREFIX mesh2017: <http://id.nlm.nih.gov/mesh/2017/>\n",
    "PREFIX mesh2018: <http://id.nlm.nih.gov/mesh/2018/>\n",
    "\n",
    "SELECT ?d\n",
    "FROM <http://id.nlm.nih.gov/mesh>\n",
    "WHERE {\n",
    "    ?d a meshv:Concept .\n",
    "    ?d rdfs:label '\"\"\" + heading + \"\"\"'@en\n",
    "} \n",
    "ORDER BY ?d\n",
    "\"\"\")\n",
    "    sparql.setReturnFormat(JSON)\n",
    "    results = sparql.query().convert()\n",
    "    \n",
    "    code = \"none\"\n",
    "    if len(results[\"results\"][\"bindings\"]) > 0:\n",
    "        code = results[\"results\"][\"bindings\"][0][\"d\"][\"value\"]\n",
    "\n",
    "    return \"#mesh_heading#\" + heading + \"#tree_number#\" + code"
   ]
  },
  {
   "cell_type": "markdown",
   "metadata": {
    "slideshow": {
     "slide_type": "slide"
    }
   },
   "source": [
    "# Teste\n",
    "\n",
    "{Myocardial Infarction}\n",
    "\n",
    "+ escolha\n",
    "\n",
    "* item\n",
    "  * estranho ->titulo\n",
    "  \n",
    "\n",
    "=== titulo ===\n",
    "\n",
    "{Aortic Dissection}"
   ]
  }
 ],
 "metadata": {
  "kernelspec": {
   "display_name": "Python 3",
   "language": "python",
   "name": "python3"
  },
  "language_info": {
   "codemirror_mode": {
    "name": "ipython",
    "version": 3
   },
   "file_extension": ".py",
   "mimetype": "text/x-python",
   "name": "python",
   "nbconvert_exporter": "python",
   "pygments_lexer": "ipython3",
   "version": "3.6.5"
  }
 },
 "nbformat": 4,
 "nbformat_minor": 2
}
