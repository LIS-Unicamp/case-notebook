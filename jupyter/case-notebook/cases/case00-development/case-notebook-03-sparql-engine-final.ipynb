{
 "cells": [
  {
   "cell_type": "code",
   "execution_count": 1,
   "metadata": {},
   "outputs": [
    {
     "data": {
      "application/vnd.jupyter.widget-view+json": {
       "model_id": "adce6b2e7b2f475a862d2fa6dc3ec76c",
       "version_major": 2,
       "version_minor": 0
      },
      "text/plain": [
       "Accordion()"
      ]
     },
     "metadata": {},
     "output_type": "display_data"
    }
   ],
   "source": [
    "import sys\n",
    "sys.path.insert(0, \"../../lib\")\n",
    "from caseNotebookLib import HealthDM\n",
    "\n",
    "HealthDM.createProfile()"
   ]
  },
  {
   "cell_type": "markdown",
   "metadata": {
    "slideshow": {
     "slide_type": "slide"
    }
   },
   "source": [
    "== Case 001 ==\n",
    "![Forklift](images/case-forklift.png)\n",
    "Man, 51 years old, present to an emergency department complaining of chest pain.\n",
    "++ Start -> Level 1\n",
    "\n",
    "== Level 1 (dialog) ==\n",
    "![Nurse](images/nurse.png)\n",
    "Lucinda (nurse): Doctor, please you have to evaluate a man (51 years-old) who entered the emergency department reporting chest pain. His vital signs are ABP: 144x92mmHG; HR: 78bpm; RR: 21rpm; Temp: 37oC; O2Sat: 98%.\n",
    "\n",
    "Patient: Doctor, I am feeling chest pain since yesterday. The pain is continuous and is located just in the middle of my chest, worsening when I breath and when I lay down on my bed. I have arterial hypertension and I {smoke} 20 cigarettes every day. My father had a “heart attack” at my age and I am very worried about it.\n",
    "\n",
    "Physical examination: cardiac and pulmonary auscultation are normal; chest pain does not worse with palpation of the thorax; there is no jugular stasis nor lower limb edema.\n",
    "\n",
    "Jacinto: What do you want to do?\n",
    "++ Generate hypothesis -> Generate hypothesis 1\n",
    "++ More information -> More information 1\n",
    "++ Call the supervisor -> Call the supervisor 1\n",
    "\n",
    "== Generate hypothesis 1 ==\n",
    "What is your main diagnostic hypothesis?\n",
    "{?1 hypothesis:mesh}\n",
    "++ Submit hypothesis -> Check hypothesis 1\n",
    "\n",
    "== More information 1 (notice) ==\n",
    "The patient never felt chest pain before. He exercises regularly and has lost weight in the last three months. \n",
    "\n",
    "He takes amlodipine and losartan regularly.\n",
    "\n",
    "Two weeks ago, he had an auto-limited gastroenteritis episode.\n",
    "He denies recent travels and surgery.\n",
    "\n",
    "== Call the supervisor 1 (notice) ==\n",
    "Chest pain is one of the commonest complains referred by patients at the emergency department. The first step is to exclude or to confirm if the patient has one of the five diseases which can have as the main complaint chest pain, and are related to sudden death: myocardial infarction, aortic dissection, pulmonary embolism, hypertensive pneumothorax, and Boerhaave Syndrome.\n",
    "\n",
    "To investigate those diseases, we need to analyze the clinical history and physical examination data, as some of them can increase or reduce the probability of each disease as we can see in the following tables:\n",
    "++ Clinical History Myocardial infarction\n",
    "++ Physical examination myocardial infarction\n",
    "++ Clinical History Aortic Dissection\n",
    "++ Physical Examination Aortic Dissection\n",
    "++ Pulmonary embolism Wells criteria\n",
    "\n",
    "Hypertensive pneumothorax is more common in longelineous young adults (primary pneumothorax) or in patients with chronic pulmonary diseases or chest trauma (secondary pneumothorax). On Physical examination, we expect asymmetry in lung auscultation and the trachea may be dislocated to the contralateral side of the pneumothorax.\n",
    "\n",
    "Boerhhave Syndrome is more common in patients who presented vomiting before chest pain, were submitted to endoscopic procedures or had chest trauma.\n",
    "As our patient has hypertension, we could be worried about aortic dissection, but there is no other data that increase it´s likelihood ratio. Also, there is no data that increases myocardial infarction likelihood ratio. Also, our patient has no feature of Wells criteria for now, but it´s is important to ask him about immobilization, trips or recent surgery.\n",
    "\n",
    "== Clinical History Myocardial infarction (notice) ==\n",
    "![History Infarction](images/history-infarction.png)\n",
    "\n",
    "== Check hypothesis 1 ==\n",
    "Among all patient features, signs, and symptoms highlighted on text, select all that increase the probability of your diagnostic hypothesis:\n",
    "\n",
    "Nurse: Doctor, please you have to evaluate a man ({51 years-old}(=)) who entered the emergency department reporting {chest pain}(=).His vital signs are {ABP: 144x92mmHG}(=); {HR: 78bpm}(=); {RR: 21rpm}(=); {Temp: 37oC}(=); {O2Sat: 98%}(=).\n",
    "\n",
    "Patient: Doctor, I am feeling chest pain since yesterday. The {pain is continuous}(=) and {is located just in the middle of my chest}(=), {worsening when I breathe}(+) and {when I lay down on my bed}(+). I have {arterial hypertension}(-) and {I smoke 20 cigarettes}(-) every day. {My father had a \"heart attack\"}(-) at my age and I am very worried about it.\n",
    "\n",
    "You perform physical examination: {cardiac and pulmonary auscultation are normal}(-); {chest pain does not worse with palpation of the thorax}(=); {there is no jugular stasis}(=) {nor lower limb edema}(=).\n",
    "\n",
    "++ Submit -> Order EKG \n",
    "\n",
    "== Order EKG ==\n",
    "Patient deny any recent long trip, immobilization or surgery.\n",
    "You re-examine the patient, obtaining the blood pressure in the four limbs, and you don´t find any significant differences. \n",
    "An EKG is then ordered:\n",
    "![EKG](images/ekg2.png)\n",
    "Game: What do you want to do?\n",
    "++ Generate hypothesis -> Generate hypothesis 2\n",
    "++ Get more information -> More information 2\n",
    "++ Call the supervisor -> Call the supervisor 2\n",
    "\n",
    "== Generate hypothesis 2 ==\n",
    "What is your main diagnostic hypothesis?\n",
    "{?1 hypothesis:mesh}\n",
    "++ Submit hypothesis -> Check hypothesis 2\n",
    "\n",
    "== More information 2 (notice) ==\n",
    "![EKG-A](images/ampliacao-eletro.gif)\n",
    "\n",
    "== Call the supervisor 2 (notice) ==\n",
    "![EKG-A](images/ampliacao-eletro.gif)\n",
    "We did not find other features that increase the likelihood of the 5 causes of chest pain associated with sudden death. Moreover, our patient has a pleuritic chest pain which worse when the patient lay down. This feature increases the probability of pericardial diseases.\n",
    "\n",
    "In EKG we found ST-segment elevation in almost all leads. Also we found PR interval “infra” in DII lead.\n",
    "\n",
    "These EKG findings, associated to clinical history and physical examination, are strongly associated to a specific diagnostic hypothesis.\n",
    "\n",
    "== Check hypothesis 2 ==\n",
    "![EKG-A](images/ampliacao-eletro.gif)\n",
    "++ Submit -> Final report\n",
    "\n",
    "== Final report ==\n",
    "# Feedback\n",
    "Score: ...\n",
    "Evaluation: ...\n",
    "Two columns"
   ]
  },
  {
   "cell_type": "code",
   "execution_count": 2,
   "metadata": {},
   "outputs": [
    {
     "data": {
      "text/html": [
       "<iframe width=\"100%\" height=\"800px\" src=\"html/index.html\"><iframe>"
      ],
      "text/plain": [
       "<IPython.core.display.HTML object>"
      ]
     },
     "metadata": {},
     "output_type": "display_data"
    }
   ],
   "source": [
    "%%HTML\n",
    "<iframe width=\"100%\" height=\"800px\" src=\"html/index.html\"><iframe>"
   ]
  },
  {
   "cell_type": "code",
   "execution_count": null,
   "metadata": {},
   "outputs": [],
   "source": []
  }
 ],
 "metadata": {
  "kernelspec": {
   "display_name": "Python 3",
   "language": "python",
   "name": "python3"
  },
  "language_info": {
   "codemirror_mode": {
    "name": "ipython",
    "version": 3
   },
   "file_extension": ".py",
   "mimetype": "text/x-python",
   "name": "python",
   "nbconvert_exporter": "python",
   "pygments_lexer": "ipython3",
   "version": "3.6.5"
  }
 },
 "nbformat": 4,
 "nbformat_minor": 2
}
