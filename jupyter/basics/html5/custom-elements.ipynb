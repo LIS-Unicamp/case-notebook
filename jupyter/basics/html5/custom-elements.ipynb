{
 "cells": [
  {
   "cell_type": "code",
   "execution_count": 35,
   "metadata": {},
   "outputs": [
    {
     "data": {
      "text/html": [
       "<!DOCTYPE html>\n",
       "<html>\n",
       "<head>\n",
       "    <title>Basic Animation</title>\n",
       "</head>\n",
       "<style>\n",
       ".dcc_button {\n",
       "  background-color: #383f4f;\n",
       "  color: #e0e9ce;\n",
       "  padding: 14px 25px;\n",
       "  text-align: center;\n",
       "  text-decoration: none;\n",
       "  display: inline-block;\n",
       "}\n",
       ".dcc_button a:link {\n",
       "    text-decoration: none;\n",
       "}\n",
       "</style>\n",
       "<body>\n",
       "    <a class=\"dcc_button\" href=\"#\">Button</a>\n",
       "</body>\n",
       "</html>"
      ],
      "text/plain": [
       "<IPython.core.display.HTML object>"
      ]
     },
     "metadata": {},
     "output_type": "display_data"
    }
   ],
   "source": [
    "%%HTML\n",
    "<!DOCTYPE html>\n",
    "<html>\n",
    "<head>\n",
    "    <title>Basic Animation</title>\n",
    "</head>\n",
    "<style>\n",
    ".dcc_button {\n",
    "  background-color: #383f4f;\n",
    "  color: #e0e9ce;\n",
    "  padding: 14px 25px;\n",
    "  text-align: center;\n",
    "  text-decoration: none;\n",
    "  display: inline-block;\n",
    "}\n",
    ".dcc_button a:link {\n",
    "    text-decoration: none;\n",
    "}\n",
    "</style>\n",
    "<body>\n",
    "    <a class=\"dcc_button\" href=\"#\">Button</a>\n",
    "</body>\n",
    "</html>\n",
    "\n",
    "\n",
    "<html>\n",
    "<head>\n",
    "    <title>Custom Button</title>\n",
    "</head>\n",
    "<body>\n",
    "    <a class=\"dcc_button\" href=\"#\">Button</a>\n",
    "</body>\n",
    "</html>"
   ]
  }
 ],
 "metadata": {
  "kernelspec": {
   "display_name": "Python 3",
   "language": "python",
   "name": "python3"
  },
  "language_info": {
   "codemirror_mode": {
    "name": "ipython",
    "version": 3
   },
   "file_extension": ".py",
   "mimetype": "text/x-python",
   "name": "python",
   "nbconvert_exporter": "python",
   "pygments_lexer": "ipython3",
   "version": "3.6.5"
  }
 },
 "nbformat": 4,
 "nbformat_minor": 2
}
