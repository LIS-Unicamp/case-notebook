{
 "cells": [
  {
   "cell_type": "markdown",
   "metadata": {},
   "source": [
    "    # SimpleMDE\n",
    "    \n",
    "    It is not running.\n",
    "    "
   ]
  },
  {
   "cell_type": "code",
   "execution_count": 7,
   "metadata": {},
   "outputs": [
    {
     "data": {
      "text/html": [
       "<html>\n",
       "<head>\n",
       "<link rel=\"stylesheet\" href=\"https://cdn.jsdelivr.net/simplemde/latest/simplemde.min.css\">\n",
       "<script src=\"https://cdn.jsdelivr.net/simplemde/latest/simplemde.min.js\"></script>\n",
       "</head>\n",
       "<body>\n",
       "<h1>Editor</h1>\n",
       "<textarea id=\"markedit\"></textarea>\n",
       "<script>\n",
       "var simplemde = new SimpleMDE({ element: document.getElementById(\"markedit\") });\n",
       "</script>\n",
       "</body>\n"
      ],
      "text/plain": [
       "<IPython.core.display.HTML object>"
      ]
     },
     "metadata": {},
     "output_type": "display_data"
    }
   ],
   "source": [
    "%%HTML\n",
    "<html>\n",
    "<head>\n",
    "<link rel=\"stylesheet\" href=\"https://cdn.jsdelivr.net/simplemde/latest/simplemde.min.css\">\n",
    "<script src=\"https://cdn.jsdelivr.net/simplemde/latest/simplemde.min.js\"></script>\n",
    "</head>\n",
    "<body>\n",
    "<h1>Editor</h1>\n",
    "<textarea id=\"markedit\"></textarea>\n",
    "<script>\n",
    "var simplemde = new SimpleMDE({ element: document.getElementById(\"markedit\") });\n",
    "</script>\n",
    "</body>"
   ]
  }
 ],
 "metadata": {
  "kernelspec": {
   "display_name": "Python 3",
   "language": "python",
   "name": "python3"
  },
  "language_info": {
   "codemirror_mode": {
    "name": "ipython",
    "version": 3
   },
   "file_extension": ".py",
   "mimetype": "text/x-python",
   "name": "python",
   "nbconvert_exporter": "python",
   "pygments_lexer": "ipython3",
   "version": "3.6.5"
  }
 },
 "nbformat": 4,
 "nbformat_minor": 2
}
